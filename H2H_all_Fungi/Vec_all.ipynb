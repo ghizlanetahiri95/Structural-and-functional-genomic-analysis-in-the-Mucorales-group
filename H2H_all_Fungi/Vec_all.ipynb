{
 "cells": [
  {
   "cell_type": "code",
   "execution_count": 2,
   "id": "a547e765-0c97-41e7-8e8d-8945581b099a",
   "metadata": {},
   "outputs": [],
   "source": [
    "import pandas as pd\n",
    "import matplotlib.pyplot as plt\n",
    "import seaborn as sns  # Importar Seaborn para estilos adicionales\n",
    "from glob import glob\n",
    "import os"
   ]
  },
  {
   "cell_type": "code",
   "execution_count": 3,
   "id": "3b5e1a53-5a08-40a6-9b3c-bd57a3ea250b",
   "metadata": {},
   "outputs": [],
   "source": [
    "def genes_vecinos_muc(df_genes):\n",
    "    genes_vecinos_todos = {}\n",
    "\n",
    "    # Función interna para calcular los vecinos de un gen específico\n",
    "    def calcular_vecinos_muc(gen_info, df_genes):\n",
    "        vecinos = []\n",
    "        inicio = gen_info['start']\n",
    "        fin = gen_info['end']\n",
    "        strand = gen_info['strand']\n",
    "        scaffold = gen_info['scaffold']\n",
    "        for _, gen_info2 in df_genes.iterrows():\n",
    "            if (gen_info2['strand'] != strand) and (gen_info2['scaffold'] == scaffold):\n",
    "                if strand == \"+\":\n",
    "                    distancia = abs(inicio - gen_info2['end'])\n",
    "                else:\n",
    "                    distancia = abs(gen_info2['start'] - fin)\n",
    "\n",
    "                if distancia < 500:\n",
    "                    vecinos.append(gen_info2['ID'])\n",
    "\n",
    "        return vecinos\n",
    "\n",
    "    # Iterar sobre todos los gen ID en el DataFrame\n",
    "    for _, gen_info in df_genes.iterrows():\n",
    "        vecinos = calcular_vecinos_muc(gen_info, df_genes)\n",
    "        if vecinos:\n",
    "            genes_vecinos_todos[gen_info['ID']] = vecinos\n",
    "\n",
    "    return genes_vecinos_todos"
   ]
  },
  {
   "cell_type": "code",
   "execution_count": null,
   "id": "abb90a05-6cb3-4215-b7bf-b626aed0ab01",
   "metadata": {},
   "outputs": [
    {
     "name": "stdout",
     "output_type": "stream",
     "text": [
      "Mucci3_gff.csv\n",
      "Calculando el número de vecinos para Mucci3\n",
      "Mucrac1_gff.csv\n",
      "Calculando el número de vecinos para Mucrac1\n",
      "Rhipu1_gff.csv\n",
      "Calculando el número de vecinos para Rhipu1\n"
     ]
    }
   ],
   "source": [
    "# Obtener una lista de los archivos clusters_ en el directorio actual\n",
    "files_clusters = glob(\"clusters_*\")\n",
    "\n",
    "for file in files_clusters:\n",
    "    try:\n",
    "        # Obtener el nombre base del archivo clusters_\n",
    "        nombre_base_clusters = os.path.splitext(file)[0][len(\"clusters_\"):]\n",
    "\n",
    "        # Leer el archivo de clusters\n",
    "        clusters_df = pd.read_csv(file, sep=\",\", header=None)\n",
    "        clusters_df.columns = [\"Cluster\", \"ID\"]\n",
    "\n",
    "        # Construir el nombre del archivo .gff correspondiente\n",
    "        file_gff = f\"{nombre_base_clusters}_gff.csv\"\n",
    "        print(file_gff)\n",
    "\n",
    "        # Verificar si el archivo .gff existe\n",
    "        if os.path.exists(file_gff):\n",
    "            # Leer el archivo .gff\n",
    "            gff_df = pd.read_csv(file_gff, sep=\",\")\n",
    "            \n",
    "            # Merge de los archivos \n",
    "            clusters_gff = pd.merge(clusters_df, gff_df, left_on=\"ID\", right_on=\"proteinId\")\n",
    "\n",
    "            \n",
    "            # Mensaje de impresión\n",
    "            print(f\"Calculando el número de vecinos para {nombre_base_clusters}\")\n",
    "            # Llamada a la función \n",
    "            vecinos_dict = genes_vecinos_muc(clusters_gff)\n",
    "            \n",
    "            # Convertir el diccionario en un dataframe de pandas\n",
    "            vecinos_dt = pd.DataFrame(list(vecinos_dict.items()), columns=['Gen_ID', 'Vecinos'])\n",
    "            # Eliminar los corchetes de la columna 'Vecinos'\n",
    "            vecinos_dt['Vecinos'] = vecinos_dt['Vecinos'].apply(lambda x: ', '.join(map(str, x)))\n",
    "\n",
    "            # Guardar el dataframe en un archivo de texto\n",
    "            vecinos_dt.to_csv(f\"{nombre_base_clusters}_vecinos.csv\", index=False)\n",
    "\n",
    "    except Exception as e:\n",
    "        print(f\"Error procesando el archivo {file}: {e}\")"
   ]
  },
  {
   "cell_type": "code",
   "execution_count": null,
   "id": "cd284040-9ff2-4055-8329-77753306275b",
   "metadata": {},
   "outputs": [],
   "source": [
    "hhklj"
   ]
  },
  {
   "cell_type": "code",
   "execution_count": null,
   "id": "de97eee7-41f2-412f-854d-ca502054597e",
   "metadata": {},
   "outputs": [],
   "source": []
  }
 ],
 "metadata": {
  "kernelspec": {
   "display_name": "Python3.8",
   "language": "python",
   "name": "python3.8"
  },
  "language_info": {
   "codemirror_mode": {
    "name": "ipython",
    "version": 3
   },
   "file_extension": ".py",
   "mimetype": "text/x-python",
   "name": "python",
   "nbconvert_exporter": "python",
   "pygments_lexer": "ipython3",
   "version": "3.8.5"
  }
 },
 "nbformat": 4,
 "nbformat_minor": 5
}
